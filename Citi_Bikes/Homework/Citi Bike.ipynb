{
 "cells": [
  {
   "cell_type": "code",
   "execution_count": 1,
   "metadata": {
    "collapsed": true
   },
   "outputs": [],
   "source": [
    "#import dependencies\n",
    "import pandas as pd\n",
    "import numpy as np"
   ]
  },
  {
   "cell_type": "code",
   "execution_count": 23,
   "metadata": {},
   "outputs": [],
   "source": [
    "#import csvs for all months\n",
    "csv1 = pd.read_csv('data/JC-201701-citibike-tripdata.csv')\n",
    "csv2 = pd.read_csv('data/JC-201702-citibike-tripdata.csv')\n",
    "csv3 = pd.read_csv('data/JC-201703-citibike-tripdata.csv')\n",
    "csv4 = pd.read_csv('data/JC-201704-citibike-tripdata.csv')\n",
    "csv5 = pd.read_csv('data/JC-201705-citibike-tripdata.csv')\n",
    "csv6 = pd.read_csv('data/JC-201706-citibike-tripdata.csv')\n",
    "csv7 = pd.read_csv('data/JC-201707-citibike-tripdata.csv')\n",
    "csv8 = pd.read_csv('data/JC-201708-citibike-tripdata.csv')\n",
    "csv9 = pd.read_csv('data/JC-201709-citibike-tripdata.csv')\n",
    "csv10 = pd.read_csv('data/JC-201710-citibike-tripdata.csv')\n",
    "csv11 = pd.read_csv('data/JC-201711-citibike-tripdata.csv')\n",
    "csv12 = pd.read_csv('data/JC-201712-citibike-tripdata.csv')"
   ]
  },
  {
   "cell_type": "code",
   "execution_count": 35,
   "metadata": {},
   "outputs": [],
   "source": [
    "# concat data by quarter\n",
    "csv1_2 = pd.concat([csv1,csv2])\n",
    "csv12_3 = pd.concat([csv1_2,csv3])\n",
    "\n",
    "\n",
    "# csvquarter1 = pd.concat([csv12_3, csv4]) initiall failed"
   ]
  },
  {
   "cell_type": "markdown",
   "metadata": {},
   "source": [
    "Issues concatinating csv4 with the others. Checked dtypes for header name and found that csv4 headers were different below. Will change column names on csv4 to match the others to complete concat for 1st quarter."
   ]
  },
  {
   "cell_type": "code",
   "execution_count": 40,
   "metadata": {},
   "outputs": [
    {
     "data": {
      "text/plain": [
       "Trip Duration                int64\n",
       "Start Time                  object\n",
       "Stop Time                   object\n",
       "Start Station ID             int64\n",
       "Start Station Name          object\n",
       "Start Station Latitude     float64\n",
       "Start Station Longitude    float64\n",
       "End Station ID               int64\n",
       "End Station Name            object\n",
       "End Station Latitude       float64\n",
       "End Station Longitude      float64\n",
       "Bike ID                      int64\n",
       "User Type                   object\n",
       "Birth Year                 float64\n",
       "Gender                       int64\n",
       "dtype: object"
      ]
     },
     "execution_count": 40,
     "metadata": {},
     "output_type": "execute_result"
    }
   ],
   "source": [
    "csv3.dtypes"
   ]
  },
  {
   "cell_type": "code",
   "execution_count": 44,
   "metadata": {},
   "outputs": [],
   "source": [
    "csv4.columns = ['Trip Duration','Start Time','Stop Time','Start Station ID','Start Station Name','Start Station Latitude','Start Station Longitude','End Station ID','End Station Name','End Station Latitude','End Station Longitude','Bike ID','User Type','Birth Year','Gender',\n",
    "]"
   ]
  },
  {
   "cell_type": "code",
   "execution_count": 49,
   "metadata": {},
   "outputs": [
    {
     "data": {
      "text/html": [
       "<div>\n",
       "<style>\n",
       "    .dataframe thead tr:only-child th {\n",
       "        text-align: right;\n",
       "    }\n",
       "\n",
       "    .dataframe thead th {\n",
       "        text-align: left;\n",
       "    }\n",
       "\n",
       "    .dataframe tbody tr th {\n",
       "        vertical-align: top;\n",
       "    }\n",
       "</style>\n",
       "<table border=\"1\" class=\"dataframe\">\n",
       "  <thead>\n",
       "    <tr style=\"text-align: right;\">\n",
       "      <th></th>\n",
       "      <th>Trip Duration</th>\n",
       "      <th>Start Time</th>\n",
       "      <th>Stop Time</th>\n",
       "      <th>Start Station ID</th>\n",
       "      <th>Start Station Name</th>\n",
       "      <th>Start Station Latitude</th>\n",
       "      <th>Start Station Longitude</th>\n",
       "      <th>End Station ID</th>\n",
       "      <th>End Station Name</th>\n",
       "      <th>End Station Latitude</th>\n",
       "      <th>End Station Longitude</th>\n",
       "      <th>Bike ID</th>\n",
       "      <th>User Type</th>\n",
       "      <th>Birth Year</th>\n",
       "      <th>Gender</th>\n",
       "    </tr>\n",
       "  </thead>\n",
       "  <tbody>\n",
       "    <tr>\n",
       "      <th>0</th>\n",
       "      <td>148</td>\n",
       "      <td>1/1/2017 0:21</td>\n",
       "      <td>1/1/2017 0:24</td>\n",
       "      <td>3276</td>\n",
       "      <td>Marin Light Rail</td>\n",
       "      <td>40.714584</td>\n",
       "      <td>-74.042817</td>\n",
       "      <td>3185</td>\n",
       "      <td>City Hall</td>\n",
       "      <td>40.717733</td>\n",
       "      <td>-74.043845</td>\n",
       "      <td>24575</td>\n",
       "      <td>Subscriber</td>\n",
       "      <td>1983.0</td>\n",
       "      <td>1</td>\n",
       "    </tr>\n",
       "    <tr>\n",
       "      <th>1</th>\n",
       "      <td>1283</td>\n",
       "      <td>1/1/2017 0:24</td>\n",
       "      <td>1/1/2017 0:45</td>\n",
       "      <td>3183</td>\n",
       "      <td>Exchange Place</td>\n",
       "      <td>40.716247</td>\n",
       "      <td>-74.033459</td>\n",
       "      <td>3198</td>\n",
       "      <td>Heights Elevator</td>\n",
       "      <td>40.748716</td>\n",
       "      <td>-74.040443</td>\n",
       "      <td>24723</td>\n",
       "      <td>Subscriber</td>\n",
       "      <td>1978.0</td>\n",
       "      <td>1</td>\n",
       "    </tr>\n",
       "    <tr>\n",
       "      <th>2</th>\n",
       "      <td>372</td>\n",
       "      <td>1/1/2017 0:38</td>\n",
       "      <td>1/1/2017 0:44</td>\n",
       "      <td>3183</td>\n",
       "      <td>Exchange Place</td>\n",
       "      <td>40.716247</td>\n",
       "      <td>-74.033459</td>\n",
       "      <td>3211</td>\n",
       "      <td>Newark Ave</td>\n",
       "      <td>40.721525</td>\n",
       "      <td>-74.046305</td>\n",
       "      <td>24620</td>\n",
       "      <td>Subscriber</td>\n",
       "      <td>1989.0</td>\n",
       "      <td>1</td>\n",
       "    </tr>\n",
       "    <tr>\n",
       "      <th>3</th>\n",
       "      <td>1513</td>\n",
       "      <td>1/1/2017 0:38</td>\n",
       "      <td>1/1/2017 1:03</td>\n",
       "      <td>3194</td>\n",
       "      <td>McGinley Square</td>\n",
       "      <td>40.725340</td>\n",
       "      <td>-74.067622</td>\n",
       "      <td>3271</td>\n",
       "      <td>Danforth Light Rail</td>\n",
       "      <td>40.692640</td>\n",
       "      <td>-74.088012</td>\n",
       "      <td>24668</td>\n",
       "      <td>Subscriber</td>\n",
       "      <td>1961.0</td>\n",
       "      <td>1</td>\n",
       "    </tr>\n",
       "    <tr>\n",
       "      <th>4</th>\n",
       "      <td>639</td>\n",
       "      <td>1/1/2017 1:47</td>\n",
       "      <td>1/1/2017 1:58</td>\n",
       "      <td>3183</td>\n",
       "      <td>Exchange Place</td>\n",
       "      <td>40.716247</td>\n",
       "      <td>-74.033459</td>\n",
       "      <td>3203</td>\n",
       "      <td>Hamilton Park</td>\n",
       "      <td>40.727596</td>\n",
       "      <td>-74.044247</td>\n",
       "      <td>26167</td>\n",
       "      <td>Subscriber</td>\n",
       "      <td>1993.0</td>\n",
       "      <td>1</td>\n",
       "    </tr>\n",
       "  </tbody>\n",
       "</table>\n",
       "</div>"
      ],
      "text/plain": [
       "   Trip Duration     Start Time      Stop Time  Start Station ID  \\\n",
       "0            148  1/1/2017 0:21  1/1/2017 0:24              3276   \n",
       "1           1283  1/1/2017 0:24  1/1/2017 0:45              3183   \n",
       "2            372  1/1/2017 0:38  1/1/2017 0:44              3183   \n",
       "3           1513  1/1/2017 0:38  1/1/2017 1:03              3194   \n",
       "4            639  1/1/2017 1:47  1/1/2017 1:58              3183   \n",
       "\n",
       "  Start Station Name  Start Station Latitude  Start Station Longitude  \\\n",
       "0   Marin Light Rail               40.714584               -74.042817   \n",
       "1     Exchange Place               40.716247               -74.033459   \n",
       "2     Exchange Place               40.716247               -74.033459   \n",
       "3    McGinley Square               40.725340               -74.067622   \n",
       "4     Exchange Place               40.716247               -74.033459   \n",
       "\n",
       "   End Station ID     End Station Name  End Station Latitude  \\\n",
       "0            3185            City Hall             40.717733   \n",
       "1            3198     Heights Elevator             40.748716   \n",
       "2            3211           Newark Ave             40.721525   \n",
       "3            3271  Danforth Light Rail             40.692640   \n",
       "4            3203        Hamilton Park             40.727596   \n",
       "\n",
       "   End Station Longitude  Bike ID   User Type  Birth Year  Gender  \n",
       "0             -74.043845    24575  Subscriber      1983.0       1  \n",
       "1             -74.040443    24723  Subscriber      1978.0       1  \n",
       "2             -74.046305    24620  Subscriber      1989.0       1  \n",
       "3             -74.088012    24668  Subscriber      1961.0       1  \n",
       "4             -74.044247    26167  Subscriber      1993.0       1  "
      ]
     },
     "execution_count": 49,
     "metadata": {},
     "output_type": "execute_result"
    }
   ],
   "source": [
    "# converted column names and concat with previous months\n",
    "csvquarter1 = pd.concat([csv12_3, csv4])\n",
    "    csvquarter1.head()"
   ]
  },
  {
   "cell_type": "code",
   "execution_count": 54,
   "metadata": {},
   "outputs": [],
   "source": [
    "# export dataframe for quarter 1 to CSV\n",
    "csvquarter1.to_csv('data/quarter1.csv',encoding='utf-8')"
   ]
  },
  {
   "cell_type": "code",
   "execution_count": 60,
   "metadata": {},
   "outputs": [
    {
     "data": {
      "text/plain": [
       "60339"
      ]
     },
     "execution_count": 60,
     "metadata": {},
     "output_type": "execute_result"
    }
   ],
   "source": [
    "# Total number of rides\n",
    "csvquarter1['Start Time'].count()"
   ]
  },
  {
   "cell_type": "code",
   "execution_count": null,
   "metadata": {
    "collapsed": true
   },
   "outputs": [],
   "source": []
  }
 ],
 "metadata": {
  "kernelspec": {
   "display_name": "Python 3",
   "language": "python",
   "name": "python3"
  },
  "language_info": {
   "codemirror_mode": {
    "name": "ipython",
    "version": 3
   },
   "file_extension": ".py",
   "mimetype": "text/x-python",
   "name": "python",
   "nbconvert_exporter": "python",
   "pygments_lexer": "ipython3",
   "version": "3.6.3"
  }
 },
 "nbformat": 4,
 "nbformat_minor": 2
}
